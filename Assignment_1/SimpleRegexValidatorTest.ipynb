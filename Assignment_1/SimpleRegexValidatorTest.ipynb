{
 "cells": [
  {
   "cell_type": "code",
   "execution_count": 5,
   "metadata": {},
   "outputs": [],
   "source": [
    "# must be in an extra cell according to the documentation of ipytest \n",
    "# must be executed before the cell with the tests is executed\n",
    "import pytest \n",
    "import ipytest\n",
    "ipytest.autoconfig()"
   ]
  },
  {
   "cell_type": "code",
   "execution_count": 6,
   "metadata": {
    "collapsed": true
   },
   "outputs": [
    {
     "name": "stdout",
     "output_type": "stream",
     "text": [
      "\u001b[32m.\u001b[0m\u001b[32m.\u001b[0m\u001b[32m.\u001b[0m\u001b[32m.\u001b[0m\u001b[32m.\u001b[0m\u001b[32m.\u001b[0m\u001b[32m.\u001b[0m\u001b[32m.\u001b[0m\u001b[32m.\u001b[0m\u001b[32m.\u001b[0m\u001b[32m.\u001b[0m\u001b[32m.\u001b[0m\u001b[32m.\u001b[0m\u001b[32m.\u001b[0m\u001b[32m.\u001b[0m\u001b[32m.\u001b[0m\u001b[32m.\u001b[0m\u001b[32m.\u001b[0m\u001b[32m.\u001b[0m\u001b[32m.\u001b[0m\u001b[32m.\u001b[0m\u001b[32m.\u001b[0m\u001b[32m.\u001b[0m\u001b[32m.\u001b[0m\u001b[32m.\u001b[0m\u001b[32m.\u001b[0m\u001b[32m.\u001b[0m\u001b[32m.\u001b[0m\u001b[32m.\u001b[0m\u001b[32m.\u001b[0m\u001b[32m.\u001b[0m\u001b[32m.\u001b[0m\u001b[32m.\u001b[0m\u001b[32m.\u001b[0m\u001b[32m.\u001b[0m\u001b[32m.\u001b[0m\u001b[32m.\u001b[0m\u001b[32m.\u001b[0m\u001b[32m.\u001b[0m\u001b[32m.\u001b[0m\u001b[32m.\u001b[0m\u001b[32m.\u001b[0m\u001b[32m.\u001b[0m\u001b[32m.\u001b[0m\u001b[32m.\u001b[0m\u001b[32m.\u001b[0m\u001b[32m.\u001b[0m\u001b[32m.\u001b[0m\u001b[32m.\u001b[0m\u001b[32m.\u001b[0m\u001b[32m.\u001b[0m\u001b[32m.\u001b[0m\u001b[32m.\u001b[0m\u001b[32m                                        [100%]\u001b[0m\n",
      "\u001b[32m\u001b[32m\u001b[1m53 passed\u001b[0m\u001b[32m in 0.30s\u001b[0m\u001b[0m\n"
     ]
    },
    {
     "data": {
      "text/plain": [
       "<ExitCode.OK: 0>"
      ]
     },
     "execution_count": 6,
     "metadata": {},
     "output_type": "execute_result"
    }
   ],
   "source": [
    "import pytest\n",
    "# note: both notebook has to be in the same folder \n",
    "import import_ipynb\n",
    "from SimpleRegexValidator import verify_regex\n",
    "# alternative magic command %%ipytest -qq didnt work for me \n",
    "ipytest.clean_tests()\n",
    "\n",
    "invalidCombinations =[ \n",
    "        #test invalid combinations with ?\n",
    "        (\"\\c[oO}lou?+r\",False),\n",
    "        (\"\\c[oO]lou?|r\",False),\n",
    "        (\"\\c[oO]lou?*r\",False),\n",
    "        (\"^?c[oO]lour\",False),\n",
    "        (\"\\c[oO]lour??r\",False),\n",
    "        # test invalid combinations with *\n",
    "        (\"\\c[oO]lour*?r\",False),\n",
    "        (\"\\c[oO]lour*|r\",False),\n",
    "        (\"\\c[oO]lour*+r\",False),\n",
    "        (\"*^c[oO]lourr\",False),\n",
    "        # test invalid combinations with |\n",
    "        (\"c[oO]lou|?r\",False),\n",
    "        (\"c[oO]lou|*r\",False),               \n",
    "        (\"c[oO]lou|+r\",False),\n",
    "        (\"^|c[oO]lou|r\",False),\n",
    "        (\"c[oO]lou||r\",False),\n",
    "        # test invalid combinations with ^\n",
    "        (\"^?c[oO]lour\",False),\n",
    "        (\"^|c[oO]lour\",False),\n",
    "        (\"^+c[oO]lour\",False),\n",
    "        (\"^*c[oO]lour\",False),\n",
    "        (\"^^c[oO]lour\",False),\n",
    "        # test invalid combinations with + \n",
    "        (\"\\c[oO}lou+?r\",False),\n",
    "        (\"\\c[oO}lou+|r\",False),\n",
    "        (\"\\c[oO}lou+*r\",False),\n",
    "        (\"+^c[oO}lour\",False),\n",
    "        (\"c[oO}lou++r\",False),\n",
    "]\n",
    "testdata = [\n",
    "        # test invalid brackets combinations \n",
    "        (\"\\c[oO}lou?r\",False),\n",
    "        (\"\\c[oO)lou?r\",False),\n",
    "        (\"\\c{oO)lou?r\",False),\n",
    "        (\"\\c{oO]lou?r\",False),\n",
    "        (\"\\c(oO]lou?r\",False),\n",
    "        (\"\\c(oO}lou?r\",False),\n",
    "        #test invalid bracket combinations \n",
    "        (\"^(0?[1-9]|[12]\\d|3[01]).(0?[1-9]|1[0-2]).([19|20)?\\d{2})\",False),\n",
    "        (\"^(0?[1-9]|[12]\\d|3[01]).(0?[1-9]|1[0-2]).([19|20]?\\d{2}]\",False),\n",
    "        (\"^/d{5}$\",False),\n",
    "        ('{}}',False),\n",
    "        ('{{}',False),\n",
    "        ('{}{',False),\n",
    "        ('}{}',False),\n",
    "        ('{}{}{{}}',True),\n",
    "        ('{{}}}',False), \n",
    "        ('{{}}{{}}',True),\n",
    "        (\"{}}\",False),\n",
    "        (\"(0?[19]|[12]|3[01])(0?[19]|1[02])((19|20)?(18|17))\",True),\n",
    "        (\"^(0?[1-9]|\",False),\n",
    "        (\"c[ÄO]lou?r\",True),\n",
    "        (\"c[(o)O]lou?r\",True),\n",
    "        (\"[Yy]e+e*s\",True),\n",
    "        (\"be?Ün\",True),\n",
    "        (\"BE?GN\",True),\n",
    "        (\"BE.?GN\",False),\n",
    "        (\"\\d{,8}\",False),\n",
    "        (\"1^ad{8}\",True),\n",
    "        (\"^\\d{5}$\",False),\n",
    "        (\"(com|org|öhm)\",True),\n",
    "    ]\n",
    "\n",
    "@pytest.mark.parametrize(\"expr,expected\",invalidCombinations)\n",
    "def test_InvalidCombinations(expr,expected):\n",
    "        result = verify_regex(expr)\n",
    "        assert result ==expected\n",
    "\n",
    "@pytest.mark.parametrize(\"expr,expected\",testdata)\n",
    "def test_verify_Expression(expr,expected):\n",
    "        result = verify_regex(expr)\n",
    "        assert result ==expected\n",
    "\n",
    "ipytest.run()        \n",
    "\n"
   ]
  }
 ],
 "metadata": {
  "kernelspec": {
   "display_name": "Python 3 (ipykernel)",
   "language": "python",
   "name": "python3"
  },
  "language_info": {
   "codemirror_mode": {
    "name": "ipython",
    "version": 3
   },
   "file_extension": ".py",
   "mimetype": "text/x-python",
   "name": "python",
   "nbconvert_exporter": "python",
   "pygments_lexer": "ipython3",
   "version": "3.10.8"
  },
  "vscode": {
   "interpreter": {
    "hash": "e7370f93d1d0cde622a1f8e1c04877d8463912d04d973331ad4851f04de6915a"
   }
  }
 },
 "nbformat": 4,
 "nbformat_minor": 2
}
